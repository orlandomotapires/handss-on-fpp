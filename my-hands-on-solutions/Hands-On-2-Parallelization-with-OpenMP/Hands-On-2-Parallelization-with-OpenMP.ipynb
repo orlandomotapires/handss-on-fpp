{
 "cells": [
  {
   "cell_type": "markdown",
   "id": "92f1ef18",
   "metadata": {},
   "source": [
    "# Hands-On 2: Parallelization with OpenMP"
   ]
  },
  {
   "cell_type": "markdown",
   "id": "a674a951",
   "metadata": {
    "tags": []
   },
   "source": [
    "## `Numeric Integration`"
   ]
  },
  {
   "cell_type": "code",
   "execution_count": 17,
   "id": "b72903bc-7fd4-4e56-8281-d3e3986d9d0c",
   "metadata": {},
   "outputs": [
    {
     "name": "stdout",
     "output_type": "stream",
     "text": [
      "Overwriting integral.c\n"
     ]
    }
   ],
   "source": [
    "%%writefile integral.c\n",
    "#include <stdio.h>\n",
    "#include <stdlib.h>\n",
    "#include <math.h>\n",
    "#include <time.h>\n",
    "#include <omp.h>\n",
    "\n",
    "/* f(x) function from which the integral will be calculated. */\n",
    "double f(double x){return 100 * x + sin(2 * x * M_PI);}\n",
    "\n",
    "double integral_sequential(double a, double b, int n)\n",
    "{\n",
    "   double h, s = 0, result;\n",
    "   int i;\n",
    "\n",
    "   h = (b - a) / n;\n",
    "\n",
    "   for(i = 0; i < n; i++)\n",
    "   {\n",
    "      s += f(a + h * (i + 0.5));\n",
    "   }\n",
    "   result = h * s;\n",
    "   \n",
    "    return result;\n",
    "}\n",
    "\n",
    "/* Calculates the integral of the function betweens point a and b. */\n",
    "double integral_parallel(double a, double b, int n)\n",
    "{\n",
    "   double h, s = 0, result;\n",
    "   int i;\n",
    "\n",
    "   h = (b - a) / n;\n",
    "\n",
    "   # pragma omp parallel for\n",
    "   for(i = 0; i < n; i++)\n",
    "   {\n",
    "      s += f(a + h * (i + 0.5));\n",
    "   }\n",
    "   result = h * s;\n",
    "   \n",
    "    return result;\n",
    "}\n",
    "\n",
    "\n",
    "int main(int argc, char **argv)\n",
    "{\n",
    "   int steps = atoi(argv[1]);\n",
    "   \n",
    "   double ts1 = omp_get_wtime();\n",
    "   double result_sequential = integral_sequential(0, 1, steps);\n",
    "   double ts2 = omp_get_wtime();\n",
    "\n",
    "   double fst = ts2 - ts1;\n",
    "\n",
    "   double tp1 = omp_get_wtime();\n",
    "   double result_parallel = integral_parallel(0, 1, steps);\n",
    "   double tp2 = omp_get_wtime();\n",
    "\n",
    "\n",
    "   double fpt = tp2 - tp1;\n",
    "   \n",
    "   double speedup = fst/fpt;\n",
    "\n",
    "   printf(\"FST: %lf\\t FPT: %lf\\tSpeedUp: %lf\\n\", fst, fpt, speedup);\n",
    "\n",
    "   return 0;\n",
    "}"
   ]
  },
  {
   "cell_type": "markdown",
   "id": "c25f9fac-4e5d-4d0b-9e48-99e7181f8a73",
   "metadata": {},
   "source": [
    "### Run the Code"
   ]
  },
  {
   "cell_type": "code",
   "execution_count": 18,
   "id": "b77d58de-a897-4ee6-b5b6-fa0be55cfe21",
   "metadata": {},
   "outputs": [],
   "source": [
    "!gcc integral.c -o integral -lm -fopenmp"
   ]
  },
  {
   "cell_type": "code",
   "execution_count": 19,
   "id": "f77896ee-490c-4c9a-9d32-22c73d9dd469",
   "metadata": {},
   "outputs": [
    {
     "name": "stdout",
     "output_type": "stream",
     "text": [
      "FST: 0.000006\t FPT: 0.008888\tSpeedUp: 0.000697\n"
     ]
    }
   ],
   "source": [
    "!./integral 1"
   ]
  },
  {
   "cell_type": "markdown",
   "id": "be567e12",
   "metadata": {},
   "source": [
    "## `Image Processing`"
   ]
  },
  {
   "cell_type": "code",
   "execution_count": 4,
   "id": "c0f91e78-8c2a-4ce1-8d6b-90a50ca1401b",
   "metadata": {},
   "outputs": [
    {
     "name": "stdout",
     "output_type": "stream",
     "text": [
      "Writing image.c\n"
     ]
    }
   ],
   "source": [
    "%%writefile image.c\n",
    "#include <stdio.h>\n",
    "#include <string.h>\n",
    "#include <stdlib.h>\n",
    "\n",
    "#define max(a, b) ((a) > (b) ? (a) : (b))\n",
    "#define min(a, b) ((a) < (b) ? (a) : (b))\n",
    "#define MAXCAD 100\n",
    "\n",
    "#define NUM_STEPS 5\n",
    "#define RADIUS 8\n",
    "#define INPUT_IMAGE \"./material/session-2/lenna.ppm\"\n",
    "#define OUTPUT_IMAGE \"./material/session-2/lenna-fil.ppm\"\n",
    "\n",
    "struct pixel\n",
    "{\n",
    "  unsigned char r, g, b;\n",
    "};\n",
    "\n",
    "int read_ppm_image(char *file_name, struct pixel ***img, int *out_width, int *out_height)\n",
    "{\n",
    "  FILE *fd;\n",
    "  char type[MAXCAD];\n",
    "  int rgb_max, actual_width, actual_height, i, j;\n",
    "\n",
    "  fd = fopen(file_name, \"r\");\n",
    "  if (fd == NULL)\n",
    "  {\n",
    "    printf(\"failed opening file %s\\n\", file_name);\n",
    "    return -1;\n",
    "  }\n",
    "\n",
    "  fscanf(fd, \"%s\", type);\n",
    "  if (strcmp(type, \"P3\") != 0)\n",
    "  {\n",
    "    printf(\"wrong format. P3 format expected\\n\");\n",
    "    return -1;\n",
    "  }\n",
    "\n",
    "  fscanf(fd, \"%d%d\", &actual_width, &actual_height);\n",
    "\n",
    "  if ((*img = (struct pixel **)malloc(sizeof(struct pixel *) * actual_height)) == NULL)\n",
    "  {\n",
    "    printf(\"failed allocating memory for %d rows\\n\", actual_height);\n",
    "    return -1;\n",
    "  }\n",
    "  if (((*img)[0] = (struct pixel *)malloc(sizeof(struct pixel) * actual_width * actual_height)) == NULL)\n",
    "  {\n",
    "    printf(\"failed de locating memory for %d * %d pixels\\n\", actual_width, actual_height);\n",
    "    return -1;\n",
    "  }\n",
    "  for (i = 1; i < actual_height; i++)\n",
    "    (*img)[i] = (*img)[i - 1] + actual_width;\n",
    "\n",
    "  fscanf(fd, \"%d\", &rgb_max);\n",
    "\n",
    "  for (i = 0; i < actual_height; i++)\n",
    "    for (j = 0; j < actual_width; j++)\n",
    "    {\n",
    "      fscanf(fd, \"%hhu\", &((*img)[i][j].r));\n",
    "      fscanf(fd, \"%hhu\", &((*img)[i][j].g));\n",
    "      fscanf(fd, \"%hhu\", &((*img)[i][j].b));\n",
    "    }\n",
    "\n",
    "  *out_width = actual_height;\n",
    "  *out_height = actual_width;\n",
    "\n",
    "  fclose(fd);\n",
    "\n",
    "  return 0;\n",
    "}\n",
    "\n",
    "int write_ppm_image(char *file_name, struct pixel **img, int width, int height)\n",
    "{\n",
    "  FILE *fd;\n",
    "  int rgb_max = 255, i, j;\n",
    "\n",
    "  fd = fopen(file_name, \"w\");\n",
    "  if (fd == NULL)\n",
    "  {\n",
    "    printf(\"failed opening file %s\\n\", file_name);\n",
    "    return -1;\n",
    "  }\n",
    "\n",
    "  fprintf(fd, \"P3\\n\");\n",
    "  fprintf(fd, \"%d %d\\n\", height, width);\n",
    "  fprintf(fd, \"%d\\n\", rgb_max);\n",
    "\n",
    "  for (i = 0; i < width; i++)\n",
    "  {\n",
    "    for (j = 0; j < height; j++)\n",
    "    {\n",
    "      fprintf(fd, \"%d \", img[i][j].r);\n",
    "      fprintf(fd, \"%d \", img[i][j].g);\n",
    "      fprintf(fd, \"%d \", img[i][j].b);\n",
    "    }\n",
    "    fprintf(fd, \"\\n\");\n",
    "  }\n",
    "\n",
    "  fclose(fd);\n",
    "\n",
    "  return 0;\n",
    "}\n",
    "\n",
    "int apply_filter(int steps, int radius, struct pixel **src, struct pixel **dst, int width, int height)\n",
    "{\n",
    "  int i, j, k, l, s, total;\n",
    "\n",
    "  struct\n",
    "  {\n",
    "    int r, g, b;\n",
    "  } result;\n",
    "  int **filter_block, filter_factor;\n",
    "\n",
    "  if ((filter_block = (int **)malloc(sizeof(int *) * (2 * (radius + 1)))) == NULL)\n",
    "  {\n",
    "    printf(\"failed allocating memory for the filter block\\n\");\n",
    "    exit(-1);\n",
    "  }\n",
    "  if ((filter_block[0] = (int *)malloc(sizeof(int) * (2 * (radius + 1)) * (2 * (radius + 1)))) == NULL)\n",
    "  {\n",
    "    printf(\"failed allocating memory for the filter block\\n\");\n",
    "    exit(-1);\n",
    "  }\n",
    "  for (i = 1; i < 2 * (radius + 1); i++)\n",
    "    filter_block[i] = filter_block[i - 1] + 2 * (radius + 1);\n",
    "\n",
    "  for (i = -radius; i <= radius; i++)\n",
    "    for (j = -radius; j <= radius; j++)\n",
    "      filter_block[i + radius][j + radius] = (radius - abs(i)) * (radius - abs(i)) + (radius - abs(j)) * (radius - abs(j)) + 1;\n",
    "\n",
    "  for (s = 0; s < steps; s++)\n",
    "  {\n",
    "    for (i = 0; i < width; i++)\n",
    "    {\n",
    "      for (j = 0; j < height; j++)\n",
    "      {\n",
    "        result.r = 0;\n",
    "        result.g = 0;\n",
    "        result.b = 0;\n",
    "        total = 0;\n",
    "        for (k = max(0, i - radius); k <= min(width - 1, i + radius); k++)\n",
    "        {\n",
    "          for (l = max(0, j - radius); l <= min(height - 1, j + radius); l++)\n",
    "          {\n",
    "            filter_factor = filter_block[k - i + radius][l - j + radius];\n",
    "            result.r += src[k][l].r * filter_factor;\n",
    "            result.g += src[k][l].g * filter_factor;\n",
    "            result.b += src[k][l].b * filter_factor;\n",
    "            total += filter_factor;\n",
    "          }\n",
    "        }\n",
    "        result.r /= total;\n",
    "        result.g /= total;\n",
    "        result.b /= total;\n",
    "        dst[i][j].r = result.r;\n",
    "        dst[i][j].g = result.g;\n",
    "        dst[i][j].b = result.b;\n",
    "      }\n",
    "    }\n",
    "    if (s + 1 < steps)\n",
    "      memcpy(src[0], dst[0], width * height * sizeof(struct pixel));\n",
    "  }\n",
    "  free(filter_block[0]);\n",
    "  free(filter_block);\n",
    "    \n",
    "  return 0;\n",
    "}\n",
    "\n",
    "int main(int argc, char **argv)\n",
    "{\n",
    "  struct pixel **src_img, **dst_img;\n",
    "  int width, height;\n",
    "  int i, result;\n",
    "\n",
    "  result = read_ppm_image(INPUT_IMAGE, &src_img, &width, &height);\n",
    "\n",
    "  dst_img = (struct pixel **)malloc(width * sizeof(struct pixel *));\n",
    "  dst_img[0] = (struct pixel *)malloc(height * width * sizeof(struct pixel));\n",
    "  for (i = 1; i < width; i++)\n",
    "    dst_img[i] = dst_img[i - 1] + height;\n",
    "\n",
    "  apply_filter(NUM_STEPS, RADIUS, src_img, dst_img, width, height);\n",
    "\n",
    "  result = write_ppm_image(OUTPUT_IMAGE, dst_img, width, height);\n",
    "\n",
    "  free(src_img[0]);\n",
    "  free(dst_img[0]);\n",
    "  free(src_img);\n",
    "  free(dst_img);\n",
    "\n",
    "  printf(\"filtered image resolution: %dx%d\\n\", width, height);\n",
    "\n",
    "  return 0;\n",
    "}"
   ]
  },
  {
   "cell_type": "markdown",
   "id": "bf967504-a3fd-48af-8f06-f1806b156548",
   "metadata": {},
   "source": [
    "### Run the Code"
   ]
  },
  {
   "cell_type": "code",
   "execution_count": 5,
   "id": "fcf9f267-0e70-45f0-9353-cf632a478cbc",
   "metadata": {},
   "outputs": [],
   "source": [
    "!gcc image.c -o image -fopenmp"
   ]
  },
  {
   "cell_type": "code",
   "execution_count": 6,
   "id": "1805d761-a421-4783-87c0-61ca5f134ed2",
   "metadata": {},
   "outputs": [
    {
     "name": "stdout",
     "output_type": "stream",
     "text": [
      "filtered image resolution: 512x512\n"
     ]
    }
   ],
   "source": [
    "!./image"
   ]
  },
  {
   "cell_type": "markdown",
   "id": "0f4b38c3-fce2-406f-b1ce-6506cf0dd656",
   "metadata": {},
   "source": [
    "### Image before"
   ]
  },
  {
   "cell_type": "code",
   "execution_count": 7,
   "id": "624f7a54-b1e0-4483-973b-85d9bff19da3",
   "metadata": {},
   "outputs": [
    {
     "ename": "UnidentifiedImageError",
     "evalue": "cannot identify image file './material/session-2/lenna.ppm'",
     "output_type": "error",
     "traceback": [
      "\u001b[0;31m---------------------------------------------------------------------------\u001b[0m",
      "\u001b[0;31mUnidentifiedImageError\u001b[0m                    Traceback (most recent call last)",
      "Cell \u001b[0;32mIn[7], line 4\u001b[0m\n\u001b[1;32m      2\u001b[0m \u001b[39mfrom\u001b[39;00m \u001b[39mPIL\u001b[39;00m \u001b[39mimport\u001b[39;00m Image\n\u001b[1;32m      3\u001b[0m path\u001b[39m=\u001b[39m\u001b[39m\"\u001b[39m\u001b[39m./material/session-2/lenna.ppm\u001b[39m\u001b[39m\"\u001b[39m\n\u001b[0;32m----> 4\u001b[0m display(Image\u001b[39m.\u001b[39;49mopen(path))\n",
      "File \u001b[0;32m/usr/lib/python3/dist-packages/PIL/Image.py:3008\u001b[0m, in \u001b[0;36mopen\u001b[0;34m(fp, mode, formats)\u001b[0m\n\u001b[1;32m   3006\u001b[0m \u001b[39mfor\u001b[39;00m message \u001b[39min\u001b[39;00m accept_warnings:\n\u001b[1;32m   3007\u001b[0m     warnings\u001b[39m.\u001b[39mwarn(message)\n\u001b[0;32m-> 3008\u001b[0m \u001b[39mraise\u001b[39;00m UnidentifiedImageError(\n\u001b[1;32m   3009\u001b[0m     \u001b[39m\"\u001b[39m\u001b[39mcannot identify image file \u001b[39m\u001b[39m%r\u001b[39;00m\u001b[39m\"\u001b[39m \u001b[39m%\u001b[39m (filename \u001b[39mif\u001b[39;00m filename \u001b[39melse\u001b[39;00m fp)\n\u001b[1;32m   3010\u001b[0m )\n",
      "\u001b[0;31mUnidentifiedImageError\u001b[0m: cannot identify image file './material/session-2/lenna.ppm'"
     ]
    }
   ],
   "source": [
    "from IPython.display import display\n",
    "from PIL import Image\n",
    "path=\"./material/session-2/lenna.ppm\"\n",
    "display(Image.open(path))"
   ]
  },
  {
   "cell_type": "markdown",
   "id": "928d00bf-daa4-4669-aec2-bb6211dd5286",
   "metadata": {},
   "source": [
    "## Filtered image resolution"
   ]
  },
  {
   "cell_type": "code",
   "execution_count": null,
   "id": "6672b540-c1be-48e2-9b10-6e2f2fd9a7f1",
   "metadata": {},
   "outputs": [],
   "source": [
    "from IPython.display import display\n",
    "from PIL import Image\n",
    "path=\"./material/session-2/lenna-fil.ppm\"\n",
    "display(Image.open(path))"
   ]
  },
  {
   "cell_type": "markdown",
   "id": "4c283708-51ca-42ff-b74b-0bfa30520332",
   "metadata": {
    "tags": []
   },
   "source": [
    "## `Primes Numbers`"
   ]
  },
  {
   "cell_type": "markdown",
   "id": "4f662605-72b8-4b7e-a94c-29bff499d4a8",
   "metadata": {},
   "source": [
    "### Big Prime"
   ]
  },
  {
   "cell_type": "code",
   "execution_count": null,
   "id": "57f34242-b01c-4a4d-a20c-3b285fd2f041",
   "metadata": {},
   "outputs": [],
   "source": [
    "%%writefile big_prime.c\n",
    "#include <stdio.h>\n",
    "#include <math.h>\n",
    "#include <limits.h>\n",
    "\n",
    "typedef unsigned long long big_integer;\n",
    "#define BIGGEST_INTEGER ULLONG_MAX\n",
    "\n",
    "int is_prime(big_integer n)\n",
    "{\n",
    "  int result;\n",
    "  big_integer sq_root;\n",
    "\n",
    "  result = (n % 2 != 0 || n == 2);\n",
    "\n",
    "  if (result)\n",
    "  {\n",
    "    sq_root = sqrt(n);\n",
    "\n",
    "    for (big_integer i = 3; result && i <= sq_root; i += 2)\n",
    "      result = n % i != 0;\n",
    "  }\n",
    "\n",
    "  return result;\n",
    "}\n",
    "\n",
    "int main(int argc, char **argv)\n",
    "{\n",
    "  big_integer n;\n",
    "\n",
    "  for (n = BIGGEST_INTEGER; !is_prime(n); n -= 2)\n",
    "  {\n",
    "  }\n",
    "\n",
    "  printf(\"%llu\\n\", n);\n",
    "\n",
    "  return 0;\n",
    "}"
   ]
  },
  {
   "cell_type": "markdown",
   "id": "516d8529-8213-446f-a518-e2f6a6124aba",
   "metadata": {},
   "source": [
    "### Run the Code"
   ]
  },
  {
   "cell_type": "code",
   "execution_count": null,
   "id": "fdb67c90-8caa-4f42-9ec5-174c5add5ed1",
   "metadata": {},
   "outputs": [],
   "source": [
    "!gcc big_prime.c -o big_prime -lm"
   ]
  },
  {
   "cell_type": "code",
   "execution_count": null,
   "id": "30e01571-7a54-4eab-87b7-0b49e539e4b4",
   "metadata": {},
   "outputs": [],
   "source": [
    "!./big_prime"
   ]
  },
  {
   "cell_type": "markdown",
   "id": "31c31261-9345-4800-b56f-395ba65e0559",
   "metadata": {},
   "source": [
    "### Count Primes"
   ]
  },
  {
   "cell_type": "code",
   "execution_count": null,
   "id": "43e0f3ef-adcf-4cc2-899c-46712a566bd4",
   "metadata": {},
   "outputs": [],
   "source": [
    "%%writefile count_primes.c\n",
    "#include <stdio.h>\n",
    "#include <math.h>\n",
    "\n",
    "typedef unsigned long long big_integer;\n",
    "#define TOP_LIMIT 20000000ULL\n",
    "\n",
    "int is_prime(big_integer n)\n",
    "{\n",
    "  int p;\n",
    "  big_integer i, s;\n",
    "\n",
    "  p = (n % 2 != 0 || n == 2);\n",
    "\n",
    "  if (p)\n",
    "  {\n",
    "    s = sqrt(n);\n",
    "\n",
    "    for (i = 3; p && i <= s; i += 2)\n",
    "      if (n % i == 0)\n",
    "        p = 0;\n",
    "  }\n",
    "\n",
    "  return p;\n",
    "}\n",
    "\n",
    "int main(int argc, char **argv)\n",
    "{\n",
    "  big_integer i, primes = 2;\n",
    "\n",
    "  for (i = 3; i <= TOP_LIMIT; i += 2)\n",
    "    if (is_prime(i))\n",
    "      primes++;\n",
    "\n",
    "  printf(\"%llu\\n\", primes);\n",
    "\n",
    "  return 0;\n",
    "}"
   ]
  },
  {
   "cell_type": "markdown",
   "id": "4c42f5f4-c795-4e05-a924-4392e45ecd8a",
   "metadata": {},
   "source": [
    "### Run the Code"
   ]
  },
  {
   "cell_type": "code",
   "execution_count": null,
   "id": "ff9c4c14-4685-4385-aa05-efb9ca17381c",
   "metadata": {},
   "outputs": [],
   "source": [
    "!gcc count_primes.c -o count_primes -lm"
   ]
  },
  {
   "cell_type": "code",
   "execution_count": null,
   "id": "d6477b5f-845e-404e-b758-e052a4925550",
   "metadata": {},
   "outputs": [],
   "source": [
    "!./count_primes"
   ]
  },
  {
   "cell_type": "markdown",
   "id": "ad055c0c-b24d-4d0f-8b8c-3093b0c601b5",
   "metadata": {
    "tags": []
   },
   "source": [
    "## References"
   ]
  },
  {
   "cell_type": "markdown",
   "id": "a5fdf090-9dd3-491b-947f-81af7b8af818",
   "metadata": {},
   "source": [
    "M. Boratto. Hands-On Supercomputing with Parallel Computing. Available: https://github.com/muriloboratto/Hands-On-Supercomputing-with-Parallel-Computing. 2022."
   ]
  },
  {
   "cell_type": "markdown",
   "id": "6a02e6bc-84d6-44d4-bb66-2a98941d08d0",
   "metadata": {},
   "source": [
    "B. Chapman, G. Jost and R. Pas. Using OpenMP: Portable Shared Memory Parallel Programming. The MIT Press, 2007, USA."
   ]
  }
 ],
 "metadata": {
  "kernelspec": {
   "display_name": "Python 3 (ipykernel)",
   "language": "python",
   "name": "python3"
  },
  "language_info": {
   "codemirror_mode": {
    "name": "ipython",
    "version": 3
   },
   "file_extension": ".py",
   "mimetype": "text/x-python",
   "name": "python",
   "nbconvert_exporter": "python",
   "pygments_lexer": "ipython3",
   "version": "3.10.12"
  }
 },
 "nbformat": 4,
 "nbformat_minor": 5
}
