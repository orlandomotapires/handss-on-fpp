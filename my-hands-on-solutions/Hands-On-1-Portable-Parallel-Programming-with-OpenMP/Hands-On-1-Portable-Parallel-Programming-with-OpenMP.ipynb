{
 "cells": [
  {
   "cell_type": "code",
   "execution_count": 19,
   "id": "c0f91e78-8c2a-4ce1-8d6b-90a50ca1401b",
   "metadata": {},
   "outputs": [
    {
     "name": "stdout",
     "output_type": "stream",
     "text": [
      "Writing mm.c\n"
     ]
    }
   ],
   "source": [
    "%%writefile mm.c\n",
    "#include <stdio.h>\n",
    "#include <stdlib.h>\n",
    "#include <omp.h>\n",
    "\n",
    "void initializeMatrix(int *matrix, int size)\n",
    "{\n",
    "  for(int i = 0; i < size; i++)\n",
    "    for(int j = 0; j < size; j++)\n",
    "      matrix[i * size + j] = rand() % (10 - 1) * 1;\n",
    "}\n",
    "\n",
    "void printMatrix(int *matrix, int size)\n",
    "{\n",
    "  for(int i = 0; i < size; i++)\n",
    "  {\n",
    "    for(int j = 0; j < size; j++)\n",
    "      printf(\"%d\\t\", matrix[i * size + j]);\n",
    "    printf(\"\\n\");\n",
    "  }\n",
    "  printf(\"\\n\");\n",
    "}\n",
    "\n",
    "int main (int argc, char **argv)\n",
    "{\n",
    " int size = atoi(argv[1]);  \n",
    " int i, j, k;\n",
    " double t1, t2;\n",
    "\n",
    " int  *A = (int *) malloc (sizeof(int)*size*size);\n",
    " int  *B = (int *) malloc (sizeof(int)*size*size);\n",
    " int  *C = (int *) malloc (sizeof(int)*size*size);\n",
    "\n",
    " initializeMatrix(A, size);\n",
    " initializeMatrix(B, size);\n",
    "\n",
    " int num_threads;\n",
    " int num_tests = 1;\n",
    "\n",
    "// Sequential code\n",
    "double sft_total = 0;\n",
    "for(int g = 0; g < num_tests; g++){\n",
    "  // SEQUENCIAL CODE\n",
    "  t1 = omp_get_wtime();\n",
    "   for(i = 0; i < size; i++)\n",
    "    for(j = 0; j < size; j++)\n",
    "      for(k = 0; k < size; k++)\n",
    "        C[i * size + j] += A[i * size + k] * B[k * size + j];\n",
    "  t2 = omp_get_wtime();\n",
    "\n",
    "  double sft = t2-t1; // Sequencial final time\n",
    "\n",
    "  sft_total += sft;\n",
    "}\n",
    "\n",
    "// Parallel code\n",
    "double pft_total = 0;\n",
    "  for(int g = 0; g < num_tests; g++){\n",
    "    t1 = omp_get_wtime();\n",
    "  #pragma omp parallel for private(i, j, k)\n",
    "    for(i = 0; i < size; i++){\n",
    "      if(i == 0) num_threads = omp_get_num_threads();\n",
    "      for(j = 0; j < size; j++)\n",
    "        for(k = 0; k < size; k++)\n",
    "          C[i * size + j] += A[i * size + k] * B[k * size + j];     \n",
    "    }\n",
    "    t2 = omp_get_wtime();\n",
    "\n",
    "    double pft = t2-t1; // Parallel final time\n",
    "\n",
    "    pft_total += pft;\n",
    "  }\n",
    "\n",
    "  double sft_media = sft_total/num_tests;\n",
    "  double pft_media = pft_total/num_tests;\n",
    "\n",
    "  double speedup = sft_media/pft_media;\n",
    "\n",
    "  printf(\"Size: %d\\tSFT: %f\\t PFT: %f\\t SpeedUp: %f\\t Num Threads: %d\\n\",size, sft_media, pft_media, speedup, num_threads);\n",
    "\n",
    " //printMatrix(A,size);\n",
    " //printMatrix(B,size);\n",
    " //printMatrix(C,size);\n",
    "\n",
    " return 0;\n",
    "}"
   ]
  },
  {
   "cell_type": "markdown",
   "id": "bf967504-a3fd-48af-8f06-f1806b156548",
   "metadata": {},
   "source": [
    "### Run the Code"
   ]
  },
  {
   "cell_type": "code",
   "execution_count": 20,
   "id": "fcf9f267-0e70-45f0-9353-cf632a478cbc",
   "metadata": {},
   "outputs": [],
   "source": [
    "!gcc mm.c -o mm -fopenmp"
   ]
  },
  {
   "cell_type": "markdown",
   "id": "2ec4b521-8342-449b-9944-58cfb36207b9",
   "metadata": {},
   "source": [
    "### Performance Analysis"
   ]
  },
  {
   "cell_type": "code",
   "execution_count": 21,
   "id": "d6c030ba-9ba4-4fc4-9084-f488b5cfd98d",
   "metadata": {},
   "outputs": [
    {
     "name": "stdout",
     "output_type": "stream",
     "text": [
      "Writing script.sh\n"
     ]
    }
   ],
   "source": [
    "%%writefile script.sh\n",
    "#!/bin/sh\n",
    "\n",
    "for ((i=100; i<=1000; i+=100))\n",
    "do\n",
    "  OMP_NUM_THREADS=\"$1\" ./mm \"$i\"\n",
    "done"
   ]
  },
  {
   "cell_type": "code",
   "execution_count": 22,
   "id": "4d29e6c6-b4bf-474d-a916-f113847f95b4",
   "metadata": {},
   "outputs": [
    {
     "name": "stdout",
     "output_type": "stream",
     "text": [
      "Size: 100\tSFT: 0.003595\t PFT: 0.001748\t SpeedUp: 2.056225\t Num Threads: 2\n",
      "Size: 200\tSFT: 0.025669\t PFT: 0.013121\t SpeedUp: 1.956328\t Num Threads: 2\n"
     ]
    },
    {
     "name": "stdout",
     "output_type": "stream",
     "text": [
      "Size: 300\tSFT: 0.089360\t PFT: 0.045774\t SpeedUp: 1.952195\t Num Threads: 2\n",
      "Size: 400\tSFT: 0.194864\t PFT: 0.106193\t SpeedUp: 1.834997\t Num Threads: 2\n",
      "Size: 500\tSFT: 0.389782\t PFT: 0.215213\t SpeedUp: 1.811144\t Num Threads: 2\n",
      "Size: 600\tSFT: 0.687574\t PFT: 0.364803\t SpeedUp: 1.884785\t Num Threads: 2\n",
      "Size: 700\tSFT: 1.081559\t PFT: 0.565799\t SpeedUp: 1.911560\t Num Threads: 2\n",
      "Size: 800\tSFT: 1.638770\t PFT: 0.868888\t SpeedUp: 1.886053\t Num Threads: 2\n",
      "Size: 900\tSFT: 2.369792\t PFT: 1.207214\t SpeedUp: 1.963025\t Num Threads: 2\n",
      "Size: 1000\tSFT: 3.082959\t PFT: 1.617664\t SpeedUp: 1.905810\t Num Threads: 2\n"
     ]
    }
   ],
   "source": [
    "!bash script.sh 2\n",
    "\n",
    "# !bash script.sh 4\n",
    "\n",
    "# !bash script.sh 8\n",
    "\n",
    "# !bash script.sh 16\n",
    "\n",
    "# !bash script.sh 32\n",
    "\n",
    "# !bash script.sh 64"
   ]
  },
  {
   "cell_type": "markdown",
   "id": "00c9b721",
   "metadata": {},
   "source": [
    "The optimal number of threads is 64"
   ]
  },
  {
   "cell_type": "markdown",
   "id": "4c283708-51ca-42ff-b74b-0bfa30520332",
   "metadata": {
    "tags": []
   },
   "source": [
    "## `Asynchronous Task`"
   ]
  },
  {
   "cell_type": "markdown",
   "id": "783ac281-446a-4fed-a351-fc19b52e988b",
   "metadata": {},
   "source": [
    "Asynchronous programming is a set of techniques for implementing expensive operations that run concurrently with the rest of the program. One domain where asynchronous programming is often used is in programs with a graphical user interface: it is often unacceptable when the user interface freezes while performing a costly operation. Also, asynchronous operations are essential for parallel applications that need to run multiple tasks simultaneously. The following is a code `asyncTaskOpenMP.c` that represents a task being done asynchronously. Before understanding the code, compile and run it as follows:"
   ]
  },
  {
   "cell_type": "code",
   "execution_count": 23,
   "id": "bc9ba924-9b10-450c-a177-5f259d005182",
   "metadata": {},
   "outputs": [
    {
     "name": "stdout",
     "output_type": "stream",
     "text": [
      "Writing asyncTaskOpenMP.c\n"
     ]
    }
   ],
   "source": [
    "%%writefile asyncTaskOpenMP.c\n",
    "#include <stdio.h>\n",
    "#include <stdlib.h>\n",
    "#include <omp.h>\n",
    "\n",
    "#define SIZE_MATRIX 10\n",
    "\n",
    "int main(int argc, char **argv)\n",
    "{\n",
    "  int n = atoi(argv[1]);\n",
    "  int block_size = atoi(argv[2]);\n",
    "  int matrix[SIZE_MATRIX][SIZE_MATRIX], k1 = 10, k2 = 20, k3 = 30, k4 = 40, k5 = 50;\n",
    "  int i, j, row, column;\n",
    "\n",
    "  for(i = 0; i < n; i++)\n",
    "  {\n",
    "    for(j = 0; j < n; j++)\n",
    "    {\n",
    "      matrix[i][j] = 5;\n",
    "      printf(\"%d\\t\", matrix[i][j]);\n",
    "    }\n",
    "    printf(\"\\n\");\n",
    "  }\n",
    "\n",
    "  printf(\"\\n\\n\");\n",
    "\n",
    "  omp_set_num_threads(5);\n",
    "\n",
    "  #pragma omp parallel private(row, column)\n",
    "  {\n",
    "    int id = omp_get_thread_num();\n",
    "\n",
    "    if(id == 0)\n",
    "    {\n",
    "      for(row = 0; row < n; row++)\n",
    "        for(column = block_size*id; column < block_size; column++)\n",
    "          matrix[row][column] *= k1;\n",
    "    }\n",
    "\n",
    "    if(id == 1)\n",
    "    {\n",
    "      for(row = 0; row < n; row++)\n",
    "        for(column = block_size*id; column < 2 * block_size; column++)\n",
    "          matrix[row][column] *= k2;\n",
    "    }\n",
    "\n",
    "    if(id == 2)\n",
    "    {\n",
    "      for(row = 0; row < n; row++)\n",
    "        for(column = block_size*id; column < 3 * block_size; column++)\n",
    "          matrix[row][column] *= k3;\n",
    "    }\n",
    "\n",
    "    if(id == 3)\n",
    "    {\n",
    "      for(row = 0; row < n; row++)\n",
    "        for(column = block_size*id; column < 4 * block_size; column++)\n",
    "          matrix[row][column] *= k4;\n",
    "    }\n",
    "\n",
    "    if(id == 4)\n",
    "    {\n",
    "      for(row = 0; row < n; row++)\n",
    "        for(column = block_size*id; column < 5 * block_size; column++)\n",
    "          matrix[row][column] *= k5;\n",
    "    }\n",
    "  \n",
    "  }\n",
    "\n",
    "  for(i = 0; i < n; i++)\n",
    "  {\n",
    "    for(j = 0; j < n; j++)\n",
    "      printf(\"%d\\t\", matrix[i][j]);\n",
    "    printf(\"\\n\");\n",
    "  }\n",
    "\n",
    "  return 0;\n",
    "}"
   ]
  },
  {
   "cell_type": "markdown",
   "id": "03685299-e273-48c3-9aad-dc9a437d2209",
   "metadata": {},
   "source": [
    "### Run the Code"
   ]
  },
  {
   "cell_type": "code",
   "execution_count": 24,
   "id": "79df516c-c78c-4c72-a59c-176dd639b907",
   "metadata": {},
   "outputs": [],
   "source": [
    "!gcc asyncTaskOpenMP.c -o asyncTaskOpenMP -fopenmp"
   ]
  },
  {
   "cell_type": "code",
   "execution_count": 25,
   "id": "3d5861e3-5e95-41eb-825b-48de71b7ff64",
   "metadata": {},
   "outputs": [
    {
     "name": "stdout",
     "output_type": "stream",
     "text": [
      "5\t5\t5\t5\t5\t5\t5\t5\t5\t5\t\n",
      "5\t5\t5\t5\t5\t5\t5\t5\t5\t5\t\n",
      "5\t5\t5\t5\t5\t5\t5\t5\t5\t5\t\n",
      "5\t5\t5\t5\t5\t5\t5\t5\t5\t5\t\n",
      "5\t5\t5\t5\t5\t5\t5\t5\t5\t5\t\n",
      "5\t5\t5\t5\t5\t5\t5\t5\t5\t5\t\n",
      "5\t5\t5\t5\t5\t5\t5\t5\t5\t5\t\n",
      "5\t5\t5\t5\t5\t5\t5\t5\t5\t5\t\n",
      "5\t5\t5\t5\t5\t5\t5\t5\t5\t5\t\n",
      "5\t5\t5\t5\t5\t5\t5\t5\t5\t5\t\n",
      "\n",
      "\n",
      "50\t50\t100\t100\t150\t150\t200\t200\t250\t250\t\n",
      "50\t50\t100\t100\t150\t150\t200\t200\t250\t250\t\n",
      "50\t50\t100\t100\t150\t150\t200\t200\t250\t250\t\n",
      "50\t50\t100\t100\t150\t150\t200\t200\t250\t250\t\n",
      "50\t50\t100\t100\t150\t150\t200\t200\t250\t250\t\n",
      "50\t50\t100\t100\t150\t150\t200\t200\t250\t250\t\n",
      "50\t50\t100\t100\t150\t150\t200\t200\t250\t250\t\n",
      "50\t50\t100\t100\t150\t150\t200\t200\t250\t250\t\n",
      "50\t50\t100\t100\t150\t150\t200\t200\t250\t250\t\n",
      "50\t50\t100\t100\t150\t150\t200\t200\t250\t250\t\n"
     ]
    }
   ],
   "source": [
    "!./asyncTaskOpenMP 10 2"
   ]
  },
  {
   "cell_type": "markdown",
   "id": "ad055c0c-b24d-4d0f-8b8c-3093b0c601b5",
   "metadata": {
    "tags": []
   },
   "source": [
    "## References"
   ]
  },
  {
   "cell_type": "markdown",
   "id": "a5fdf090-9dd3-491b-947f-81af7b8af818",
   "metadata": {},
   "source": [
    "M. Boratto. Hands-On Supercomputing with Parallel Computing. Available: https://github.com/muriloboratto/Hands-On-Supercomputing-with-Parallel-Computing. 2022."
   ]
  },
  {
   "cell_type": "markdown",
   "id": "6a02e6bc-84d6-44d4-bb66-2a98941d08d0",
   "metadata": {},
   "source": [
    "B. Chapman, G. Jost and R. Pas. Using OpenMP: Portable Shared Memory Parallel Programming. The MIT Press, 2007, USA."
   ]
  }
 ],
 "metadata": {
  "kernelspec": {
   "display_name": "Python 3 (ipykernel)",
   "language": "python",
   "name": "python3"
  },
  "language_info": {
   "codemirror_mode": {
    "name": "ipython",
    "version": 3
   },
   "file_extension": ".py",
   "mimetype": "text/x-python",
   "name": "python",
   "nbconvert_exporter": "python",
   "pygments_lexer": "ipython3",
   "version": "3.10.12"
  }
 },
 "nbformat": 4,
 "nbformat_minor": 5
}
