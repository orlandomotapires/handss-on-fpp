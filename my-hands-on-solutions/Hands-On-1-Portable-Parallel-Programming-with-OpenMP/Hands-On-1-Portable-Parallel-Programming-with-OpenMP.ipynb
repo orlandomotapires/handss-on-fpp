{
 "cells": [
  {
   "cell_type": "code",
   "execution_count": 98,
   "id": "c0f91e78-8c2a-4ce1-8d6b-90a50ca1401b",
   "metadata": {},
   "outputs": [
    {
     "name": "stdout",
     "output_type": "stream",
     "text": [
      "Writing mm.c\n"
     ]
    }
   ],
   "source": [
    "%%writefile mm.c\n",
    "#include <stdio.h>\n",
    "#include <stdlib.h>\n",
    "#include <omp.h>\n",
    "\n",
    "int  *A;\n",
    "int  *B; \n",
    "int  *C;\n",
    "int size;\n",
    "int num_threads;\n",
    "\n",
    "void initializeMatrix(int *matrix, int size)\n",
    "{\n",
    "  for(int i = 0; i < size; i++)\n",
    "    for(int j = 0; j < size; j++)\n",
    "      matrix[i * size + j] = rand() % (10 - 1) * 1;\n",
    "}\n",
    "\n",
    "void multiply_sequential(){\n",
    "  int i, j, k;\n",
    "  for(i = 0; i < size; i++)\n",
    "    for(j = 0; j < size; j++)\n",
    "      for(k = 0; k < size; k++)\n",
    "        C[i * size + j] += A[i * size + k] * B[k * size + j];\n",
    "}\n",
    "\n",
    "void multiply_parallel(){\n",
    "  int i, j, k;\n",
    "  #pragma omp parallel for private(i, j, k)\n",
    "  for(i = 0; i < size; i++){\n",
    "    for(j = 0; j < size; j++){\n",
    "      if (i == 0 && j == 0) num_threads = omp_get_num_threads();\n",
    "      for(k = 0; k < size; k++)\n",
    "        C[i * size + j] = A[i * size + k] * B[k * size + j];\n",
    "    }\n",
    "  } \n",
    "}\n",
    "\n",
    "void multiply_parallel_collapse_reduction(){\n",
    "  int i, j, k;\n",
    "  #pragma omp parallel for  collapse(2) private(i, j, k)\n",
    "  for(i = 0; i < size; i++){\n",
    "    for(j = 0; j < size; j++){\n",
    "      if (i == 0 && j == 0) num_threads = omp_get_num_threads();\n",
    "      int ans = 0;\n",
    "    #pragma omp simd reduction(+ : ans)\n",
    "      for(k = 0; k < size; k++){\n",
    "        ans += A[i * size + k] * B[k * size + j];\n",
    "      }\n",
    "      C[i * size + j] = ans;\n",
    "    }\n",
    "  } \n",
    "}\n",
    "\n",
    "int main (int argc, char **argv)\n",
    "{\n",
    "  size = atoi(argv[1]);  \n",
    "  int i, j, k;\n",
    "  double st1, st2, mpt1, mpt2, mpcrt1, mpcrt2;\n",
    "\n",
    "  A = (int *) malloc (sizeof(int)*size*size);\n",
    "  B = (int *) malloc (sizeof(int)*size*size);\n",
    "  C = (int *) malloc (sizeof(int)*size*size);\n",
    "\n",
    "  initializeMatrix(A, size);\n",
    "  initializeMatrix(B, size);\n",
    "\n",
    "  // Sequential\n",
    "  st1 = omp_get_wtime();\n",
    "  multiply_sequential();\n",
    "  st2 = omp_get_wtime();\n",
    "  \n",
    "  // Parallel\n",
    "  mpt1 = omp_get_wtime();\n",
    "  multiply_parallel();\n",
    "  mpt2 = omp_get_wtime();\n",
    "\n",
    "  // Parallel collapse reduction\n",
    "  mpcrt1 = omp_get_wtime();\n",
    "  multiply_parallel_collapse_reduction();\n",
    "  mpcrt2 = omp_get_wtime();\n",
    "  \n",
    "  double msft = st2-st1; // Sequencial final time\n",
    "  double mpft = mpt2-mpt1; // Parallel final time\n",
    "  double mpcrft = mpcrt2-mpcrt1; // Parallel collapse reduction final time\n",
    "\n",
    "  double speedup = msft/mpcrft;\n",
    "\n",
    "  printf(\"Size: %d\\tMSFT: %f\\tMPFT: %f\\tMPCRFT: %f\\tSpeedUp: %f\\tNum Threads: %d\\n\", size, msft, mpft, mpcrft, speedup, num_threads);\n",
    "\n",
    "  return 0;\n",
    "}"
   ]
  },
  {
   "cell_type": "markdown",
   "id": "bf967504-a3fd-48af-8f06-f1806b156548",
   "metadata": {},
   "source": [
    "### Run the Code"
   ]
  },
  {
   "cell_type": "code",
   "execution_count": 99,
   "id": "fcf9f267-0e70-45f0-9353-cf632a478cbc",
   "metadata": {},
   "outputs": [],
   "source": [
    "!gcc mm.c -o mm -fopenmp"
   ]
  },
  {
   "cell_type": "markdown",
   "id": "2ec4b521-8342-449b-9944-58cfb36207b9",
   "metadata": {},
   "source": [
    "### Performance Analysis"
   ]
  },
  {
   "cell_type": "code",
   "execution_count": 100,
   "id": "d6c030ba-9ba4-4fc4-9084-f488b5cfd98d",
   "metadata": {},
   "outputs": [
    {
     "name": "stdout",
     "output_type": "stream",
     "text": [
      "Writing script.sh\n"
     ]
    }
   ],
   "source": [
    "%%writefile script.sh\n",
    "#!/bin/sh\n",
    "\n",
    "for ((i=2; i<=64; i*=2))\n",
    "do\n",
    "  for ((j=200; j<=1000; j+=200))\n",
    "  do\n",
    "    OMP_NUM_THREADS=\"$i\" ./mm \"$j\"\n",
    "  done\n",
    "  echo \"=-=-=-=-=-=-=-=-=-=-=-=-=-=-=-=-=-=-=-=-=-=-=-=-=-=-=-=-=-=-=-=-=-=-=-=-=-=-=-=-=-=-=-=-=\"\n",
    "done"
   ]
  },
  {
   "cell_type": "code",
   "execution_count": 101,
   "id": "4d29e6c6-b4bf-474d-a916-f113847f95b4",
   "metadata": {},
   "outputs": [
    {
     "name": "stdout",
     "output_type": "stream",
     "text": [
      "Size: 200\tMSFT: 0.028417\tMPFT: 0.011712\tMPCRFT: 0.006467\tSpeedUp: 4.394053\tNum Threads: 2\n",
      "Size: 400\tMSFT: 0.236149\tMPFT: 0.089556\tMPCRFT: 0.054004\tSpeedUp: 4.372842\tNum Threads: 2\n",
      "Size: 600\tMSFT: 0.787572\tMPFT: 0.301314\tMPCRFT: 0.187562\tSpeedUp: 4.198989\tNum Threads: 2\n",
      "Size: 800\tMSFT: 1.849147\tMPFT: 0.719798\tMPCRFT: 0.439701\tSpeedUp: 4.205461\tNum Threads: 2\n",
      "Size: 1000\tMSFT: 3.715425\tMPFT: 1.426778\tMPCRFT: 0.893393\tSpeedUp: 4.158782\tNum Threads: 2\n",
      "=-=-=-=-=-=-=-=-=-=-=-=-=-=-=-=-=-=-=-=-=-=-=-=-=-=-=-=-=-=-=-=-=-=-=-=-=-=-=-=-=-=-=-=-=\n",
      "Size: 200\tMSFT: 0.028403\tMPFT: 0.006350\tMPCRFT: 0.003525\tSpeedUp: 8.058443\tNum Threads: 4\n",
      "Size: 400\tMSFT: 0.224047\tMPFT: 0.046702\tMPCRFT: 0.024593\tSpeedUp: 9.110077\tNum Threads: 4\n",
      "Size: 600\tMSFT: 0.790312\tMPFT: 0.160473\tMPCRFT: 0.103259\tSpeedUp: 7.653711\tNum Threads: 4\n",
      "Size: 800\tMSFT: 1.952867\tMPFT: 0.373433\tMPCRFT: 0.250817\tSpeedUp: 7.786018\tNum Threads: 4\n",
      "Size: 1000\tMSFT: 3.754693\tMPFT: 0.755925\tMPCRFT: 0.474902\tSpeedUp: 7.906243\tNum Threads: 4\n",
      "=-=-=-=-=-=-=-=-=-=-=-=-=-=-=-=-=-=-=-=-=-=-=-=-=-=-=-=-=-=-=-=-=-=-=-=-=-=-=-=-=-=-=-=-=\n",
      "Size: 200\tMSFT: 0.029769\tMPFT: 0.005080\tMPCRFT: 0.002881\tSpeedUp: 10.333671\tNum Threads: 8\n",
      "Size: 400\tMSFT: 0.237294\tMPFT: 0.034871\tMPCRFT: 0.025580\tSpeedUp: 9.276371\tNum Threads: 8\n",
      "Size: 600\tMSFT: 0.779962\tMPFT: 0.115932\tMPCRFT: 0.087384\tSpeedUp: 8.925712\tNum Threads: 8\n",
      "Size: 800\tMSFT: 1.856750\tMPFT: 0.404689\tMPCRFT: 0.366314\tSpeedUp: 5.068739\tNum Threads: 8\n",
      "Size: 1000\tMSFT: 5.588405\tMPFT: 0.521859\tMPCRFT: 0.382692\tSpeedUp: 14.602897\tNum Threads: 8\n",
      "=-=-=-=-=-=-=-=-=-=-=-=-=-=-=-=-=-=-=-=-=-=-=-=-=-=-=-=-=-=-=-=-=-=-=-=-=-=-=-=-=-=-=-=-=\n",
      "Size: 200\tMSFT: 0.028943\tMPFT: 0.004556\tMPCRFT: 0.002875\tSpeedUp: 10.066359\tNum Threads: 16\n",
      "Size: 400\tMSFT: 0.230010\tMPFT: 0.028469\tMPCRFT: 0.021603\tSpeedUp: 10.647158\tNum Threads: 16\n",
      "Size: 600\tMSFT: 0.796532\tMPFT: 0.111091\tMPCRFT: 0.072930\tSpeedUp: 10.921853\tNum Threads: 16\n",
      "Size: 800\tMSFT: 1.902521\tMPFT: 0.231942\tMPCRFT: 0.172197\tSpeedUp: 11.048541\tNum Threads: 16\n",
      "Size: 1000\tMSFT: 3.861957\tMPFT: 0.437881\tMPCRFT: 0.348073\tSpeedUp: 11.095234\tNum Threads: 16\n",
      "=-=-=-=-=-=-=-=-=-=-=-=-=-=-=-=-=-=-=-=-=-=-=-=-=-=-=-=-=-=-=-=-=-=-=-=-=-=-=-=-=-=-=-=-=\n",
      "Size: 200\tMSFT: 0.030860\tMPFT: 0.003848\tMPCRFT: 0.002579\tSpeedUp: 11.964557\tNum Threads: 32\n",
      "Size: 400\tMSFT: 0.237955\tMPFT: 0.031258\tMPCRFT: 0.020188\tSpeedUp: 11.786900\tNum Threads: 32\n",
      "Size: 600\tMSFT: 0.803497\tMPFT: 0.094780\tMPCRFT: 0.089031\tSpeedUp: 9.024937\tNum Threads: 32\n",
      "Size: 800\tMSFT: 1.857889\tMPFT: 0.205196\tMPCRFT: 0.162801\tSpeedUp: 11.412052\tNum Threads: 32\n",
      "Size: 1000\tMSFT: 3.687525\tMPFT: 0.399324\tMPCRFT: 0.305651\tSpeedUp: 12.064512\tNum Threads: 32\n",
      "=-=-=-=-=-=-=-=-=-=-=-=-=-=-=-=-=-=-=-=-=-=-=-=-=-=-=-=-=-=-=-=-=-=-=-=-=-=-=-=-=-=-=-=-=\n",
      "Size: 200\tMSFT: 0.028623\tMPFT: 0.004285\tMPCRFT: 0.002231\tSpeedUp: 12.827634\tNum Threads: 64\n",
      "Size: 400\tMSFT: 0.227602\tMPFT: 0.025896\tMPCRFT: 0.020213\tSpeedUp: 11.259990\tNum Threads: 64\n",
      "Size: 600\tMSFT: 0.765986\tMPFT: 0.090392\tMPCRFT: 0.066703\tSpeedUp: 11.483503\tNum Threads: 64\n",
      "Size: 800\tMSFT: 1.805994\tMPFT: 0.198242\tMPCRFT: 0.155661\tSpeedUp: 11.602060\tNum Threads: 64\n",
      "Size: 1000\tMSFT: 3.810180\tMPFT: 0.431973\tMPCRFT: 0.319389\tSpeedUp: 11.929606\tNum Threads: 64\n",
      "=-=-=-=-=-=-=-=-=-=-=-=-=-=-=-=-=-=-=-=-=-=-=-=-=-=-=-=-=-=-=-=-=-=-=-=-=-=-=-=-=-=-=-=-=\n"
     ]
    }
   ],
   "source": [
    "!bash script.sh "
   ]
  },
  {
   "cell_type": "markdown",
   "id": "00c9b721",
   "metadata": {},
   "source": [
    "# Questions and Answers:\n",
    "\n",
    "## Question 1:\n",
    "**What is the behavior of execution time and speedup as the problem size varies? (Present the solution with tabular and graphical data).**\n",
    "\n",
    "The execution time and speedup vary as the problem size changes. Some expected behaviors also occur, such as for a smaller problem and a larger number of threads, the speedup is reduced, as parallelizing the code in these circumstances proves to be ineffective.\n",
    "\n",
    "## Question 2:\n",
    "**What is the optimal number of threads for the best parallel solution?**\n",
    "\n",
    "The optimal number of threads is 64."
   ]
  },
  {
   "cell_type": "markdown",
   "id": "4c283708-51ca-42ff-b74b-0bfa30520332",
   "metadata": {
    "tags": []
   },
   "source": [
    "## `Asynchronous Task`"
   ]
  },
  {
   "cell_type": "code",
   "execution_count": 102,
   "id": "bc9ba924-9b10-450c-a177-5f259d005182",
   "metadata": {},
   "outputs": [
    {
     "name": "stdout",
     "output_type": "stream",
     "text": [
      "Writing asyncTaskOpenMP.c\n"
     ]
    }
   ],
   "source": [
    "%%writefile asyncTaskOpenMP.c\n",
    "#include <stdio.h>\n",
    "#include <stdlib.h>\n",
    "#include <omp.h>\n",
    "\n",
    "#define SIZE_MATRIX 10\n",
    "\n",
    "int main(int argc, char **argv)\n",
    "{\n",
    "  int n = atoi(argv[1]);\n",
    "  int block_size = atoi(argv[2]);\n",
    "  int matrix[SIZE_MATRIX][SIZE_MATRIX], k1 = 10, k2 = 20, k3 = 30, k4 = 40, k5 = 50;\n",
    "  int i, j, row, column;\n",
    "\n",
    "  for(i = 0; i < n; i++)\n",
    "  {\n",
    "    for(j = 0; j < n; j++)\n",
    "    {\n",
    "      matrix[i][j] = 5;\n",
    "      printf(\"%d\\t\", matrix[i][j]);\n",
    "    }\n",
    "    printf(\"\\n\");\n",
    "  }\n",
    "\n",
    "  printf(\"\\n\\n\");\n",
    "\n",
    "  omp_set_num_threads(5);\n",
    "\n",
    "  #pragma omp parallel private(row, column)\n",
    "  {\n",
    "    int id = omp_get_thread_num();\n",
    "\n",
    "    if(id == 0)\n",
    "    {\n",
    "      for(row = 0; row < n; row++)\n",
    "        for(column = block_size*id; column < block_size; column++)\n",
    "          matrix[row][column] *= k1;\n",
    "    }\n",
    "\n",
    "    if(id == 1)\n",
    "    {\n",
    "      for(row = 0; row < n; row++)\n",
    "        for(column = block_size*id; column < 2 * block_size; column++)\n",
    "          matrix[row][column] *= k2;\n",
    "    }\n",
    "\n",
    "    if(id == 2)\n",
    "    {\n",
    "      for(row = 0; row < n; row++)\n",
    "        for(column = block_size*id; column < 3 * block_size; column++)\n",
    "          matrix[row][column] *= k3;\n",
    "    }\n",
    "\n",
    "    if(id == 3)\n",
    "    {\n",
    "      for(row = 0; row < n; row++)\n",
    "        for(column = block_size*id; column < 4 * block_size; column++)\n",
    "          matrix[row][column] *= k4;\n",
    "    }\n",
    "\n",
    "    if(id == 4)\n",
    "    {\n",
    "      for(row = 0; row < n; row++)\n",
    "        for(column = block_size*id; column < 5 * block_size; column++)\n",
    "          matrix[row][column] *= k5;\n",
    "    }\n",
    "  \n",
    "  }\n",
    "\n",
    "  for(i = 0; i < n; i++)\n",
    "  {\n",
    "    for(j = 0; j < n; j++)\n",
    "      printf(\"%d\\t\", matrix[i][j]);\n",
    "    printf(\"\\n\");\n",
    "  }\n",
    "\n",
    "  return 0;\n",
    "}"
   ]
  },
  {
   "cell_type": "markdown",
   "id": "03685299-e273-48c3-9aad-dc9a437d2209",
   "metadata": {},
   "source": [
    "### Run the Code"
   ]
  },
  {
   "cell_type": "code",
   "execution_count": 103,
   "id": "79df516c-c78c-4c72-a59c-176dd639b907",
   "metadata": {},
   "outputs": [],
   "source": [
    "!gcc asyncTaskOpenMP.c -o asyncTaskOpenMP -fopenmp"
   ]
  },
  {
   "cell_type": "code",
   "execution_count": 104,
   "id": "3d5861e3-5e95-41eb-825b-48de71b7ff64",
   "metadata": {},
   "outputs": [
    {
     "name": "stdout",
     "output_type": "stream",
     "text": [
      "5\t5\t5\t5\t5\t5\t5\t5\t5\t5\t\n",
      "5\t5\t5\t5\t5\t5\t5\t5\t5\t5\t\n",
      "5\t5\t5\t5\t5\t5\t5\t5\t5\t5\t\n",
      "5\t5\t5\t5\t5\t5\t5\t5\t5\t5\t\n",
      "5\t5\t5\t5\t5\t5\t5\t5\t5\t5\t\n",
      "5\t5\t5\t5\t5\t5\t5\t5\t5\t5\t\n",
      "5\t5\t5\t5\t5\t5\t5\t5\t5\t5\t\n",
      "5\t5\t5\t5\t5\t5\t5\t5\t5\t5\t\n",
      "5\t5\t5\t5\t5\t5\t5\t5\t5\t5\t\n",
      "5\t5\t5\t5\t5\t5\t5\t5\t5\t5\t\n",
      "\n",
      "\n",
      "50\t50\t100\t100\t150\t150\t200\t200\t250\t250\t\n",
      "50\t50\t100\t100\t150\t150\t200\t200\t250\t250\t\n",
      "50\t50\t100\t100\t150\t150\t200\t200\t250\t250\t\n",
      "50\t50\t100\t100\t150\t150\t200\t200\t250\t250\t\n",
      "50\t50\t100\t100\t150\t150\t200\t200\t250\t250\t\n",
      "50\t50\t100\t100\t150\t150\t200\t200\t250\t250\t\n",
      "50\t50\t100\t100\t150\t150\t200\t200\t250\t250\t\n",
      "50\t50\t100\t100\t150\t150\t200\t200\t250\t250\t\n",
      "50\t50\t100\t100\t150\t150\t200\t200\t250\t250\t\n",
      "50\t50\t100\t100\t150\t150\t200\t200\t250\t250\t\n"
     ]
    }
   ],
   "source": [
    "!./asyncTaskOpenMP 10 2"
   ]
  },
  {
   "cell_type": "markdown",
   "id": "048ebef8",
   "metadata": {},
   "source": [
    "# Questions and Answers:\n",
    "\n",
    "## Question 1:\n",
    "**What does the code do from the compilation and execution of the previous code?**\n",
    "\n",
    "The code aims to divide the matrix into parts, where each thread will be responsible for performing operations on these parts independently.\n",
    "\n",
    "## Question 2:\n",
    "**How would it be possible to extend the code so that the five threads perform asynchronous tasks?**\n",
    "\n",
    "We only need to adjust the range that each thread will follow and adjust the number of \"if\" statements to cover all possible IDs.\n"
   ]
  },
  {
   "cell_type": "markdown",
   "id": "ad055c0c-b24d-4d0f-8b8c-3093b0c601b5",
   "metadata": {
    "tags": []
   },
   "source": [
    "## References"
   ]
  },
  {
   "cell_type": "markdown",
   "id": "a5fdf090-9dd3-491b-947f-81af7b8af818",
   "metadata": {},
   "source": [
    "M. Boratto. Hands-On Supercomputing with Parallel Computing. Available: https://github.com/muriloboratto/Hands-On-Supercomputing-with-Parallel-Computing. 2022."
   ]
  },
  {
   "cell_type": "markdown",
   "id": "6a02e6bc-84d6-44d4-bb66-2a98941d08d0",
   "metadata": {},
   "source": [
    "B. Chapman, G. Jost and R. Pas. Using OpenMP: Portable Shared Memory Parallel Programming. The MIT Press, 2007, USA."
   ]
  }
 ],
 "metadata": {
  "kernelspec": {
   "display_name": "Python 3 (ipykernel)",
   "language": "python",
   "name": "python3"
  },
  "language_info": {
   "codemirror_mode": {
    "name": "ipython",
    "version": 3
   },
   "file_extension": ".py",
   "mimetype": "text/x-python",
   "name": "python",
   "nbconvert_exporter": "python",
   "pygments_lexer": "ipython3",
   "version": "3.10.12"
  }
 },
 "nbformat": 4,
 "nbformat_minor": 5
}
